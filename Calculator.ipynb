{
  "nbformat": 4,
  "nbformat_minor": 0,
  "metadata": {
    "colab": {
      "provenance": []
    },
    "kernelspec": {
      "name": "python3",
      "display_name": "Python 3"
    },
    "language_info": {
      "name": "python"
    }
  },
  "cells": [
    {
      "cell_type": "code",
      "execution_count": null,
      "metadata": {
        "id": "2aHJOobkTXJK",
        "colab": {
          "base_uri": "https://localhost:8080/"
        },
        "outputId": "be1bd55e-5e50-4c08-be7f-7ca804e12ac2"
      },
      "outputs": [
        {
          "output_type": "stream",
          "name": "stdout",
          "text": [
            "Operations:\n",
            "1. Add\n",
            "2. Subtract\n",
            "3. Multiply\n",
            "4. Divide\n",
            "5. Power\n",
            "Select operation 1, 2, 3, 4 or 5: 1\n",
            "Enter first number: 1\n",
            "Enter second number: 1\n",
            "1 + 1 = 2\n"
          ]
        }
      ],
      "source": [
        "def addition(x, y):\n",
        "    return x+y\n",
        "\n",
        "def subtract(x, y):\n",
        "    return x-y\n",
        "\n",
        "def multiply(x, y):\n",
        "    return x*y\n",
        "\n",
        "def divide(x, y):\n",
        "    return x/y\n",
        "\n",
        "def power(x, y):\n",
        "    return x**y\n",
        "\n",
        "print(\"Operations:\")\n",
        "print(\"1. Add\")\n",
        "print(\"2. Subtract\")\n",
        "print(\"3. Multiply\")\n",
        "print(\"4. Divide\")\n",
        "print(\"5. Power\")\n",
        "\n",
        "select = int(input(\"Select operation 1, 2, 3, 4 or 5: \"))\n",
        "\n",
        "num_1 = int(input(\"Enter first number: \"))\n",
        "num_2 = int(input(\"Enter second number: \"))\n",
        "\n",
        "if select == 1:\n",
        "    print(num_1, \"+\", num_2, \"=\", addition(num_1, num_2))\n",
        "\n",
        "elif select == 2:\n",
        "    print(num_1, \"-\", num_2, \"=\", subtract(num_1, num_2))\n",
        "\n",
        "elif select == 3:\n",
        "    print(num_1, \"*\", num_2, \"=\", multiply(num_1, num_2))\n",
        "\n",
        "elif select == 4:\n",
        "    print(num_1, \"/\", num_2, \"=\", divide(num_1, num_2))\n",
        "\n",
        "else:\n",
        "    print(num_1, \"**\", num_2, \"=\", power(num_1, num_2))\n"
      ]
    },
    {
      "cell_type": "code",
      "source": [],
      "metadata": {
        "id": "UwfO2_sYHQnN"
      },
      "execution_count": null,
      "outputs": []
    }
  ]
}